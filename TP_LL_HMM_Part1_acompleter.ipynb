{
 "cells": [
  {
   "cell_type": "markdown",
   "metadata": {},
   "source": [
    "## Partie Chaine de Markov (Part 1)\n",
    "## fichier a completer par les etudiant.es\n",
    "## L. Likforman"
   ]
  },
  {
   "cell_type": "code",
   "execution_count": null,
   "metadata": {},
   "outputs": [],
   "source": [
    "import numpy as np \n",
    "%matplotlib inline\n",
    "import matplotlib.pyplot as plt\n",
    "\n",
    "filename_A='bigramenglish.txt'\n",
    "A=np.loadtxt(filename_A)\n",
    "print(len(A))\n",
    "filename_F='bigramfrancais.txt'\n",
    "F=np.loadtxt(filename_F)\n",
    "print(len(F))\n",
    "dic={'1' : ' ', '2' : 'a', '3' : 'b', '4': 'c', '5' : 'd', '6' : 'e', '7': 'f', '8' : 'g', '9' : 'h', '10': 'i', '11': 'j',\n",
    "'12' : 'k', '13' : 'l', '14': 'm', '15' : 'n', '16' : 'o', '17': 'p', '18' : 'q', '19' : 'r' , '20': 's', '21' : 't', '22'\n",
    ": 'u', '23': 'v', '24' : 'w', '25' : 'x' , '26': 'y', '27' : 'z', '28' : ' '}\n",
    "print(len(dic))"
   ]
  },
  {
   "cell_type": "markdown",
   "metadata": {},
   "source": [
    "## I.2.a \n",
    "bigramenglish.txt' contient la matrice des transitions pour l’anglais (bigrams) entre deux symboles (caractères ou espaces). Le terme générique (i,j) de la matrice de transition correspond à la probabilité de transiter vers l’état j à partir de l’état i.\n",
    "A quelles probabilités correspond la première ligne de la matrice de transition ? et celles de la dernière colonne ?\n",
    "Pour chaque lettre de l’alphabet, indiquer la transition la plus fréquente depuis cette lettre"
   ]
  },
  {
   "cell_type": "code",
   "execution_count": null,
   "metadata": {
    "scrolled": true
   },
   "outputs": [],
   "source": [
    "''' \n",
    "A completer\n",
    "'''\n"
   ]
  },
  {
   "cell_type": "markdown",
   "metadata": {},
   "source": [
    "## I.2.b\n"
   ]
  },
  {
   "cell_type": "raw",
   "metadata": {},
   "source": [
    "\"\"\"\n",
    "La fonction etat_suivant génère un état (à t+1) à partir de l’état courant (à t) et à l’aide de la matrice de transitions et de la fonction de répartition.\n",
    "Afficher sur un graphique la fonction de répartition \n",
    "pour une ligne de la matrice de transition et expliquer son rôle pour la génération de l’état à t+1.\n",
    "\n",
    "\"\"\""
   ]
  },
  {
   "cell_type": "code",
   "execution_count": null,
   "metadata": {},
   "outputs": [],
   "source": [
    "plt.step(range(1, 29), np.cumsum(A[2,]))\n",
    "#plt.step()\n",
    "plt.title('Fonction de repartition de etat suivant a partir de etat precedent 3 (lettre b)')\n",
    "plt.xlabel('Etat suivant')\n",
    "plt.ylabel('Probabilite') \n",
    "plt.show()"
   ]
  },
  {
   "cell_type": "code",
   "execution_count": null,
   "metadata": {},
   "outputs": [],
   "source": [
    "def etat_suivant(ligne_matrice_trans):\n",
    "    '''\n",
    "    La fonction génère un état (à t+1) à partir de l’état courant (à t) \n",
    "    La ligne de la matrice de transitions correspond aux probabilités \n",
    "    de transiter de l etat courant vers les autres etats.\n",
    "    '''\n",
    "    f_repartition = np.cumsum(ligne_matrice_trans)\n",
    "    unif = np.random.random()\n",
    "    stat = 0\n",
    "    while(unif >= f_repartition[stat]):\n",
    "        stat = stat+1\n",
    "    return stat+1\n"
   ]
  },
  {
   "cell_type": "raw",
   "metadata": {},
   "source": [
    "Ecrire la fonction genere_state_seq \n",
    "qui génère une séquence d’états jusqu’à aboutir à l’état final (28). \n",
    "Puis ecrire une fonction display_seq qui transforme une séquence d’états \n",
    "en séquence de caractères, à l’aide d’un dictionnaire. \n",
    "Utiliser ces fonctions pour générer des mots.\n"
   ]
  },
  {
   "cell_type": "code",
   "execution_count": null,
   "metadata": {},
   "outputs": [],
   "source": [
    "def  generate_state_seq(A):\n",
    "    \n",
    "    \"\"\"\n",
    "    Calculate a sequence of states\n",
    "\n",
    "    \"\"\"  \n",
    "    numStates = len(A)\n",
    "# Generate the emitting states sequence \n",
    "    t = 0  \n",
    "    stateSeq=[]   \n",
    "\n",
    "#    a completer\n",
    "#     .......   \n",
    "    return stateSeq\n"
   ]
  },
  {
   "cell_type": "markdown",
   "metadata": {},
   "source": [
    "def display_seq(seq):\n",
    "    str_seq = \"\"\n",
    "    .....\n",
    "    return str_seq"
   ]
  },
  {
   "cell_type": "code",
   "execution_count": null,
   "metadata": {},
   "outputs": [],
   "source": [
    "seq = generate_state_seq(A)\n"
   ]
  },
  {
   "cell_type": "code",
   "execution_count": null,
   "metadata": {},
   "outputs": [],
   "source": [
    "print(display_seq(seq))"
   ]
  },
  {
   "cell_type": "markdown",
   "metadata": {},
   "source": [
    "# I.2.c"
   ]
  },
  {
   "cell_type": "raw",
   "metadata": {},
   "source": [
    "On veut générer une suite de mots (phrase). Créer un état final de phrase (état 29, correspondant au caractère . ) dont la probabilité de transition vers cet état depuis un état final de mot est 0.1. Ecrire une fonction modifie_mat_dic qui modifie la matrice de transition et le dictionnaire en conséquence. Donner des exemples de phrases générées."
   ]
  },
  {
   "cell_type": "code",
   "execution_count": null,
   "metadata": {},
   "outputs": [],
   "source": [
    "def modifie_mat_dic(A,dic) :\n",
    "    dic['29']='.'\n",
    "    A_mod=np.zeros((29,29))\n",
    "    ....\n",
    "    return A_mod,dic"
   ]
  },
  {
   "cell_type": "code",
   "execution_count": null,
   "metadata": {},
   "outputs": [],
   "source": [
    "Amod,dicmod=modifie_mat_dic(A,dic)"
   ]
  },
  {
   "cell_type": "code",
   "execution_count": null,
   "metadata": {},
   "outputs": [],
   "source": [
    "def genere_phrase(A,dic) :\n",
    "    t=0\n",
    "    numStates=len(dic)\n",
    "    stateSeq=[]\n",
    "    # stateSeq est une liste\n",
    "    stateSeq.append(1)  # on commence par etat 1\n",
    "    .....\n",
    "    return stateSeq"
   ]
  },
  {
   "cell_type": "code",
   "execution_count": null,
   "metadata": {},
   "outputs": [],
   "source": [
    "print('generation de phrases  :')\n",
    "for i in range (5) :\n",
    "    state_seq=genere_phrase(Amod,dicmod)\n",
    "    #print(state_seq)\n",
    "    \n",
    "    print(display_seq(state_seq))\n"
   ]
  },
  {
   "cell_type": "markdown",
   "metadata": {},
   "source": [
    "## I.3\n"
   ]
  },
  {
   "cell_type": "code",
   "execution_count": null,
   "metadata": {},
   "outputs": [],
   "source": [
    "#transformer les espaces en +/- dans le dictionnaire et inversion\n",
    "dicmod['1']='-'\n",
    "dicmod['28']='+'\n",
    "dicmod['29']='.'"
   ]
  },
  {
   "cell_type": "raw",
   "metadata": {},
   "source": [
    "Charger la matrice des transitions entre caractères pour le français. Ecrire une fonction calc_vraisemblance qui calcule la vraisemblance du modèle français pour une phrase donnée en multipliant les probabilités de transition. Pour tenir compte de toutes les transitions (notamment celles entre espaces de fin et de début de mots et vers la fin de phrase) on pourra transformer une séquence « mot1 mot2.» par la séquence « -mot1+-mot2+.», les signes - , + et . représentant l’état initial de mot, l’état final de mot et l’état final de phrase, respectivement.\n"
   ]
  },
  {
   "cell_type": "code",
   "execution_count": null,
   "metadata": {},
   "outputs": [],
   "source": [
    "def calc_vraisemblance(string, dic, mat) : \n",
    "    dicInv = {v: k for k, v in dic.items()} \n",
    "    vraisemblance = 1.0\n",
    "    state = dicInv[string[0]]\n",
    "    ....\n",
    "    return vraisemblance"
   ]
  },
  {
   "cell_type": "raw",
   "metadata": {},
   "source": [
    "Calculer la vraisemblance des modèles français et anglais pour la phrase « to be or not to be ». De même calculer la vraisemblance des modèles français et anglais pour la phrase « etre ou ne pas etre »."
   ]
  },
  {
   "cell_type": "code",
   "execution_count": null,
   "metadata": {},
   "outputs": [],
   "source": [
    "sentence = \"-to+-be+-or+-not+-to+-be+.\"\n",
    "....."
   ]
  }
 ],
 "metadata": {
  "kernelspec": {
   "display_name": "Python 3",
   "language": "python",
   "name": "python3"
  },
  "language_info": {
   "codemirror_mode": {
    "name": "ipython",
    "version": 3
   },
   "file_extension": ".py",
   "mimetype": "text/x-python",
   "name": "python",
   "nbconvert_exporter": "python",
   "pygments_lexer": "ipython3",
   "version": "3.8.8"
  }
 },
 "nbformat": 4,
 "nbformat_minor": 2
}
